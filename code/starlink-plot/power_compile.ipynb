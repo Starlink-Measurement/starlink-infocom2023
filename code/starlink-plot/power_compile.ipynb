{
 "cells": [
  {
   "cell_type": "code",
   "execution_count": 2,
   "id": "32b9ef1c-e9dd-4dd1-af0a-bc73366f7c6e",
   "metadata": {},
   "outputs": [],
   "source": [
    "import pandas as pd\n",
    "import glob"
   ]
  },
  {
   "cell_type": "code",
   "execution_count": 27,
   "id": "637dc779-296f-46f2-8e79-9fbb266d53b1",
   "metadata": {},
   "outputs": [],
   "source": [
    "from scipy.signal import savgol_filter\n",
    "\n",
    "from common import combine_csvs\n",
    "import common\n",
    "from common import N_STARLINK\n",
    "from common import N_STARLINK_REMOTE\n",
    "from common import N_HOME\n",
    "from common import N_HAMPTON\n",
    "from common import N_MOTION"
   ]
  },
  {
   "cell_type": "code",
   "execution_count": 33,
   "id": "e97d8c9a-dd16-4b4e-ba0e-42b7d35ca246",
   "metadata": {},
   "outputs": [],
   "source": [
    "DATA_FOLDER = 'data/Power/'\n",
    "TIMESTAMP = 'Timestamp'"
   ]
  },
  {
   "cell_type": "code",
   "execution_count": 52,
   "id": "dd4580db-c916-4b48-8e26-d37b554ba94b",
   "metadata": {},
   "outputs": [
    {
     "data": {
      "text/html": [
       "<div>\n",
       "<style scoped>\n",
       "    .dataframe tbody tr th:only-of-type {\n",
       "        vertical-align: middle;\n",
       "    }\n",
       "\n",
       "    .dataframe tbody tr th {\n",
       "        vertical-align: top;\n",
       "    }\n",
       "\n",
       "    .dataframe thead th {\n",
       "        text-align: right;\n",
       "    }\n",
       "</style>\n",
       "<table border=\"1\" class=\"dataframe\">\n",
       "  <thead>\n",
       "    <tr style=\"text-align: right;\">\n",
       "      <th></th>\n",
       "      <th>Timestamp</th>\n",
       "      <th>Juuden1_1 (kWhs)</th>\n",
       "    </tr>\n",
       "  </thead>\n",
       "  <tbody>\n",
       "    <tr>\n",
       "      <th>0</th>\n",
       "      <td>01/17/2022 01:00:00</td>\n",
       "      <td>0.0000</td>\n",
       "    </tr>\n",
       "    <tr>\n",
       "      <th>1</th>\n",
       "      <td>01/17/2022 02:00:00</td>\n",
       "      <td>0.0462</td>\n",
       "    </tr>\n",
       "    <tr>\n",
       "      <th>2</th>\n",
       "      <td>01/17/2022 03:00:00</td>\n",
       "      <td>0.0456</td>\n",
       "    </tr>\n",
       "    <tr>\n",
       "      <th>3</th>\n",
       "      <td>01/17/2022 04:00:00</td>\n",
       "      <td>0.0458</td>\n",
       "    </tr>\n",
       "    <tr>\n",
       "      <th>4</th>\n",
       "      <td>01/17/2022 05:00:00</td>\n",
       "      <td>0.0464</td>\n",
       "    </tr>\n",
       "    <tr>\n",
       "      <th>...</th>\n",
       "      <td>...</td>\n",
       "      <td>...</td>\n",
       "    </tr>\n",
       "    <tr>\n",
       "      <th>4565</th>\n",
       "      <td>07/26/2022 06:00:00</td>\n",
       "      <td>0.0415</td>\n",
       "    </tr>\n",
       "    <tr>\n",
       "      <th>4566</th>\n",
       "      <td>07/26/2022 07:00:00</td>\n",
       "      <td>0.0407</td>\n",
       "    </tr>\n",
       "    <tr>\n",
       "      <th>4567</th>\n",
       "      <td>07/26/2022 08:00:00</td>\n",
       "      <td>0.0403</td>\n",
       "    </tr>\n",
       "    <tr>\n",
       "      <th>1328</th>\n",
       "      <td>07/26/2022 08:00:00</td>\n",
       "      <td>0.0178</td>\n",
       "    </tr>\n",
       "    <tr>\n",
       "      <th>4568</th>\n",
       "      <td>07/26/2022 09:00:00</td>\n",
       "      <td>0.0340</td>\n",
       "    </tr>\n",
       "  </tbody>\n",
       "</table>\n",
       "<p>4577 rows × 2 columns</p>\n",
       "</div>"
      ],
      "text/plain": [
       "                Timestamp  Juuden1_1 (kWhs)\n",
       "0     01/17/2022 01:00:00            0.0000\n",
       "1     01/17/2022 02:00:00            0.0462\n",
       "2     01/17/2022 03:00:00            0.0456\n",
       "3     01/17/2022 04:00:00            0.0458\n",
       "4     01/17/2022 05:00:00            0.0464\n",
       "...                   ...               ...\n",
       "4565  07/26/2022 06:00:00            0.0415\n",
       "4566  07/26/2022 07:00:00            0.0407\n",
       "4567  07/26/2022 08:00:00            0.0403\n",
       "1328  07/26/2022 08:00:00            0.0178\n",
       "4568  07/26/2022 09:00:00            0.0340\n",
       "\n",
       "[4577 rows x 2 columns]"
      ]
     },
     "execution_count": 52,
     "metadata": {},
     "output_type": "execute_result"
    }
   ],
   "source": [
    "df = combine_csvs(glob.glob('data/**/*Juu*1H*.csv', recursive=True), index_col=False).rename(columns={'Time Bucket (UTC)': TIMESTAMP})\n",
    "df = df.drop_duplicates()\n",
    "df.sort_values(TIMESTAMP)"
   ]
  },
  {
   "cell_type": "code",
   "execution_count": 53,
   "id": "e2b0fbdb-33be-4953-869c-c6813f7bd049",
   "metadata": {},
   "outputs": [],
   "source": [
    "df.to_csv(f'{DATA_FOLDER}/2022-07-26_dishA_power_1HOUR_data.csv', index=False)"
   ]
  }
 ],
 "metadata": {
  "kernelspec": {
   "display_name": "Python 3 (ipykernel)",
   "language": "python",
   "name": "python3"
  },
  "language_info": {
   "codemirror_mode": {
    "name": "ipython",
    "version": 3
   },
   "file_extension": ".py",
   "mimetype": "text/x-python",
   "name": "python",
   "nbconvert_exporter": "python",
   "pygments_lexer": "ipython3",
   "version": "3.8.10"
  }
 },
 "nbformat": 4,
 "nbformat_minor": 5
}
