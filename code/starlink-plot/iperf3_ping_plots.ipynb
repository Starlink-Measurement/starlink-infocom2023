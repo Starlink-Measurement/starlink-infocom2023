{
 "cells": [
  {
   "cell_type": "code",
   "execution_count": 1,
   "id": "83580268",
   "metadata": {},
   "outputs": [
    {
     "name": "stdout",
     "output_type": "stream",
     "text": [
      "Defaulting to user installation because normal site-packages is not writeable\n",
      "Collecting jupytext\n",
      "  Using cached jupytext-1.13.8-py3-none-any.whl (297 kB)\n",
      "Requirement already satisfied: toml in /home/sami/.local/lib/python3.8/site-packages (from jupytext) (0.10.2)\n",
      "Requirement already satisfied: pyyaml in /usr/lib/python3/dist-packages (from jupytext) (5.3.1)\n",
      "Requirement already satisfied: nbformat in /home/sami/.local/lib/python3.8/site-packages (from jupytext) (5.4.0)\n",
      "Requirement already satisfied: markdown-it-py<3.0.0,>=1.0.0 in /home/sami/.local/lib/python3.8/site-packages (from jupytext) (2.1.0)\n",
      "Requirement already satisfied: mdit-py-plugins in /home/sami/.local/lib/python3.8/site-packages (from jupytext) (0.3.0)\n",
      "Requirement already satisfied: mdurl~=0.1 in /home/sami/.local/lib/python3.8/site-packages (from markdown-it-py<3.0.0,>=1.0.0->jupytext) (0.1.1)\n",
      "Requirement already satisfied: traitlets>=5.1 in /home/sami/.local/lib/python3.8/site-packages (from nbformat->jupytext) (5.2.2.post1)\n",
      "Requirement already satisfied: jsonschema>=2.6 in /usr/local/lib/python3.8/dist-packages (from nbformat->jupytext) (3.2.0)\n",
      "Requirement already satisfied: fastjsonschema in /home/sami/.local/lib/python3.8/site-packages (from nbformat->jupytext) (2.15.3)\n",
      "Requirement already satisfied: jupyter-core in /home/sami/.local/lib/python3.8/site-packages (from nbformat->jupytext) (4.10.0)\n",
      "Requirement already satisfied: six>=1.11.0 in /home/sami/.local/lib/python3.8/site-packages (from jsonschema>=2.6->nbformat->jupytext) (1.16.0)\n",
      "Requirement already satisfied: pyrsistent>=0.14.0 in /usr/local/lib/python3.8/dist-packages (from jsonschema>=2.6->nbformat->jupytext) (0.18.1)\n",
      "Requirement already satisfied: attrs>=17.4.0 in /home/sami/.local/lib/python3.8/site-packages (from jsonschema>=2.6->nbformat->jupytext) (20.3.0)\n",
      "Requirement already satisfied: setuptools in /home/sami/.local/lib/python3.8/site-packages (from jsonschema>=2.6->nbformat->jupytext) (57.1.0)\n",
      "Installing collected packages: jupytext\n",
      "Successfully installed jupytext-1.13.8\n",
      "\u001b[33mWARNING: There was an error checking the latest version of pip.\u001b[0m\u001b[33m\n",
      "\u001b[0mNote: you may need to restart the kernel to use updated packages.\n",
      "[jupytext] Reading plot_iperfcsv.py in format py\n",
      "[jupytext] Writing plot_iperfcsv.ipynb\n"
     ]
    }
   ],
   "source": [
    "%pip install jupytext\n",
    "!jupytext --to notebook plot_iperfcsv.py"
   ]
  },
  {
   "cell_type": "code",
   "execution_count": null,
   "id": "c48a4da9",
   "metadata": {},
   "outputs": [],
   "source": []
  }
 ],
 "metadata": {
  "kernelspec": {
   "display_name": "Python 3 (ipykernel)",
   "language": "python",
   "name": "python3"
  },
  "language_info": {
   "codemirror_mode": {
    "name": "ipython",
    "version": 3
   },
   "file_extension": ".py",
   "mimetype": "text/x-python",
   "name": "python",
   "nbconvert_exporter": "python",
   "pygments_lexer": "ipython3",
   "version": "3.8.10"
  }
 },
 "nbformat": 4,
 "nbformat_minor": 5
}
